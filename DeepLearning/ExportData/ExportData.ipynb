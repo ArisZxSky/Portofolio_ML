{
 "cells": [
  {
   "cell_type": "code",
   "execution_count": null,
   "id": "4a80e38f",
   "metadata": {},
   "outputs": [],
   "source": [
    "import tensorflow as tf\n",
    "print(tf.__version__)\n"
   ]
  },
  {
   "cell_type": "code",
   "execution_count": 2,
   "id": "5bc8d502",
   "metadata": {},
   "outputs": [
    {
     "name": "stdout",
     "output_type": "stream",
     "text": [
      "WARNING:tensorflow:From c:\\Users\\Aris\\AppData\\Local\\Programs\\Python\\Python310\\lib\\site-packages\\keras\\src\\losses.py:2976: The name tf.losses.sparse_softmax_cross_entropy is deprecated. Please use tf.compat.v1.losses.sparse_softmax_cross_entropy instead.\n",
      "\n"
     ]
    }
   ],
   "source": [
    "import pandas as pd\n",
    "import numpy as np\n",
    "import tensorflow as tf\n",
    "from tensorflow import feature_column\n",
    "from tensorflow.keras import layers\n",
    "from sklearn.model_selection import train_test_split\n",
    "from tensorflow.keras.layers import DenseFeatures"
   ]
  },
  {
   "cell_type": "code",
   "execution_count": 3,
   "id": "1781a958",
   "metadata": {},
   "outputs": [],
   "source": [
    "url= 'https://raw.githubusercontent.com/natashayulian/diamond_dataset/master/diamonds.csv'\n",
    "df = pd.read_csv(url)"
   ]
  },
  {
   "cell_type": "code",
   "execution_count": 4,
   "id": "f7761e33",
   "metadata": {},
   "outputs": [
    {
     "name": "stdout",
     "output_type": "stream",
     "text": [
      "34521 train examples\n",
      "8631 validation examples\n",
      "10788 test examples\n"
     ]
    }
   ],
   "source": [
    "train, test = train_test_split(df, test_size=0.2)\n",
    "train, val = train_test_split(train, test_size=0.2)\n",
    "print(len(train), 'train examples')\n",
    "print(len(val), 'validation examples')\n",
    "print(len(test), 'test examples')"
   ]
  },
  {
   "cell_type": "code",
   "execution_count": 5,
   "id": "5efcfb26",
   "metadata": {},
   "outputs": [],
   "source": [
    "# Membuat kolom target\n",
    "# 0 = low; 1 = high\n",
    "df['target'] = np.where(df['price'] <= 1000, 0, 1)\n",
    "\n",
    "# Drop un-used columns\n",
    "df = df.drop(columns=['price'])"
   ]
  },
  {
   "cell_type": "code",
   "execution_count": 6,
   "id": "03d11bab",
   "metadata": {},
   "outputs": [],
   "source": [
    "# Cara untuk membuat dataset tf.data dari pandas dataframe\n",
    "def df_to_dataset(dataframe, shuffle=True, batch_size=32):\n",
    "  dataframe = df.copy()\n",
    "  labels =  dataframe.pop('target')\n",
    "  ds = tf.data.Dataset.from_tensor_slices((dict(dataframe), labels))\n",
    "  if shuffle:\n",
    "    ds = ds.shuffle(buffer_size=len(dataframe))\n",
    "  ds = ds.batch(batch_size)\n",
    "  return ds\n",
    "\n",
    "batch_size = 10   #bath ukuran kecil untuk demonstrasi\n",
    "train_ds = df_to_dataset(train, batch_size=batch_size)\n",
    "val_ds = df_to_dataset(val, shuffle=False, batch_size=batch_size)\n",
    "test_ds = df_to_dataset(test, shuffle=False, batch_size=batch_size)"
   ]
  },
  {
   "cell_type": "code",
   "execution_count": 7,
   "id": "de8f939c",
   "metadata": {},
   "outputs": [],
   "source": [
    "example_batch = next(iter(train_ds))[0]\n",
    "def demo(feature_column):\n",
    "  feature_layer = layers.DenseFeatures(feature_column)\n",
    "  print(feature_layer(example_batch).numpy())"
   ]
  },
  {
   "cell_type": "code",
   "execution_count": 8,
   "id": "3c8f54aa",
   "metadata": {},
   "outputs": [
    {
     "name": "stdout",
     "output_type": "stream",
     "text": [
      "WARNING:tensorflow:From C:\\Users\\Aris\\AppData\\Local\\Temp\\ipykernel_20528\\50961798.py:2: numeric_column (from tensorflow.python.feature_column.feature_column_v2) is deprecated and will be removed in a future version.\n",
      "Instructions for updating:\n",
      "Use Keras preprocessing layers instead, either directly or via the `tf.keras.utils.FeatureSpace` utility. Each of `tf.feature_column.*` has a functional equivalent in `tf.keras.layers` for feature preprocessing when training a Keras model.\n",
      "WARNING:tensorflow:From c:\\Users\\Aris\\AppData\\Local\\Programs\\Python\\Python310\\lib\\site-packages\\keras\\src\\backend.py:873: The name tf.get_default_graph is deprecated. Please use tf.compat.v1.get_default_graph instead.\n",
      "\n",
      "[[2.1 ]\n",
      " [0.5 ]\n",
      " [0.9 ]\n",
      " [1.12]\n",
      " [0.41]\n",
      " [0.32]\n",
      " [0.3 ]\n",
      " [0.7 ]\n",
      " [1.63]\n",
      " [0.93]]\n"
     ]
    }
   ],
   "source": [
    "# numeric column\n",
    "carat = feature_column.numeric_column('carat')\n",
    "demo (carat)"
   ]
  },
  {
   "cell_type": "code",
   "execution_count": 9,
   "id": "c4933128",
   "metadata": {},
   "outputs": [
    {
     "name": "stdout",
     "output_type": "stream",
     "text": [
      "WARNING:tensorflow:From C:\\Users\\Aris\\AppData\\Local\\Temp\\ipykernel_20528\\1387489768.py:3: bucketized_column (from tensorflow.python.feature_column.feature_column_v2) is deprecated and will be removed in a future version.\n",
      "Instructions for updating:\n",
      "Use Keras preprocessing layers instead, either directly or via the `tf.keras.utils.FeatureSpace` utility. Each of `tf.feature_column.*` has a functional equivalent in `tf.keras.layers` for feature preprocessing when training a Keras model.\n",
      "[[0. 0. 1.]\n",
      " [1. 0. 0.]\n",
      " [1. 0. 0.]\n",
      " [0. 1. 0.]\n",
      " [1. 0. 0.]\n",
      " [1. 0. 0.]\n",
      " [1. 0. 0.]\n",
      " [1. 0. 0.]\n",
      " [0. 1. 0.]\n",
      " [1. 0. 0.]]\n"
     ]
    }
   ],
   "source": [
    "# bucketized column\n",
    "carat = feature_column.numeric_column('carat')\n",
    "carat_buckets = feature_column.bucketized_column(carat, boundaries=[1, 2])\n",
    "demo(carat_buckets)"
   ]
  },
  {
   "cell_type": "code",
   "execution_count": 10,
   "id": "ab35dfee",
   "metadata": {},
   "outputs": [
    {
     "name": "stdout",
     "output_type": "stream",
     "text": [
      "WARNING:tensorflow:From C:\\Users\\Aris\\AppData\\Local\\Temp\\ipykernel_20528\\3456320691.py:2: categorical_column_with_vocabulary_list (from tensorflow.python.feature_column.feature_column_v2) is deprecated and will be removed in a future version.\n",
      "Instructions for updating:\n",
      "Use Keras preprocessing layers instead, either directly or via the `tf.keras.utils.FeatureSpace` utility. Each of `tf.feature_column.*` has a functional equivalent in `tf.keras.layers` for feature preprocessing when training a Keras model.\n",
      "WARNING:tensorflow:From C:\\Users\\Aris\\AppData\\Local\\Temp\\ipykernel_20528\\3456320691.py:5: indicator_column (from tensorflow.python.feature_column.feature_column_v2) is deprecated and will be removed in a future version.\n",
      "Instructions for updating:\n",
      "Use Keras preprocessing layers instead, either directly or via the `tf.keras.utils.FeatureSpace` utility. Each of `tf.feature_column.*` has a functional equivalent in `tf.keras.layers` for feature preprocessing when training a Keras model.\n",
      "[[0. 0. 0. 0. 1. 0. 0.]\n",
      " [0. 0. 0. 0. 0. 1. 0.]\n",
      " [0. 0. 1. 0. 0. 0. 0.]\n",
      " [0. 0. 0. 0. 0. 0. 1.]\n",
      " [0. 0. 0. 0. 0. 1. 0.]\n",
      " [0. 0. 0. 1. 0. 0. 0.]\n",
      " [0. 0. 0. 0. 1. 0. 0.]\n",
      " [0. 0. 0. 1. 0. 0. 0.]\n",
      " [0. 0. 0. 0. 0. 1. 0.]\n",
      " [0. 0. 0. 1. 0. 0. 0.]]\n"
     ]
    }
   ],
   "source": [
    "# Categorical\n",
    "color_type = feature_column.categorical_column_with_vocabulary_list(\n",
    "    'color', ['E', 'I', 'J', 'D', 'H', 'G', 'F'])\n",
    "\n",
    "color_type_one_hot = feature_column.indicator_column(color_type)\n",
    "demo(color_type_one_hot)"
   ]
  },
  {
   "cell_type": "code",
   "execution_count": 11,
   "id": "a725f9ed",
   "metadata": {},
   "outputs": [
    {
     "name": "stdout",
     "output_type": "stream",
     "text": [
      "WARNING:tensorflow:From C:\\Users\\Aris\\AppData\\Local\\Temp\\ipykernel_20528\\1773718968.py:4: embedding_column (from tensorflow.python.feature_column.feature_column_v2) is deprecated and will be removed in a future version.\n",
      "Instructions for updating:\n",
      "Use Keras preprocessing layers instead, either directly or via the `tf.keras.utils.FeatureSpace` utility. Each of `tf.feature_column.*` has a functional equivalent in `tf.keras.layers` for feature preprocessing when training a Keras model.\n",
      "[[ 0.22924729  0.31571868  0.3161583   0.00753899 -0.55990696  0.2623892 ]\n",
      " [ 0.4067011  -0.08763124 -0.06604492 -0.12525435 -0.42827097  0.22611696]\n",
      " [ 0.22924729  0.31571868  0.3161583   0.00753899 -0.55990696  0.2623892 ]\n",
      " [ 0.22924729  0.31571868  0.3161583   0.00753899 -0.55990696  0.2623892 ]\n",
      " [ 0.10197064  0.1848788  -0.35031492 -0.43938258  0.1095311  -0.49085385]\n",
      " [ 0.7271103   0.20606227  0.26175436  0.03214366 -0.03953018 -0.01279583]\n",
      " [ 0.22924729  0.31571868  0.3161583   0.00753899 -0.55990696  0.2623892 ]\n",
      " [ 0.4067011  -0.08763124 -0.06604492 -0.12525435 -0.42827097  0.22611696]\n",
      " [ 0.22924729  0.31571868  0.3161583   0.00753899 -0.55990696  0.2623892 ]\n",
      " [-0.25824854 -0.79951686  0.00209415 -0.5729346  -0.1726538   0.2823612 ]]\n"
     ]
    }
   ],
   "source": [
    "# Embedding\n",
    "clarity = feature_column.categorical_column_with_vocabulary_list(\n",
    "    'clarity', df.clarity.unique())\n",
    "clarity_embedding = feature_column.embedding_column(clarity, dimension=6)\n",
    "demo(clarity_embedding)"
   ]
  },
  {
   "cell_type": "code",
   "execution_count": 12,
   "id": "ad7e95be",
   "metadata": {},
   "outputs": [
    {
     "name": "stdout",
     "output_type": "stream",
     "text": [
      "WARNING:tensorflow:From C:\\Users\\Aris\\AppData\\Local\\Temp\\ipykernel_20528\\1582071144.py:2: categorical_column_with_hash_bucket (from tensorflow.python.feature_column.feature_column_v2) is deprecated and will be removed in a future version.\n",
      "Instructions for updating:\n",
      "Use Keras preprocessing layers instead, either directly or via the `tf.keras.utils.FeatureSpace` utility. Each of `tf.feature_column.*` has a functional equivalent in `tf.keras.layers` for feature preprocessing when training a Keras model.\n",
      "[[0. 0. 0. 1. 0.]\n",
      " [0. 0. 0. 0. 1.]\n",
      " [0. 0. 0. 1. 0.]\n",
      " [0. 0. 0. 1. 0.]\n",
      " [1. 0. 0. 0. 0.]\n",
      " [1. 0. 0. 0. 0.]\n",
      " [0. 0. 0. 1. 0.]\n",
      " [0. 0. 0. 0. 1.]\n",
      " [0. 0. 0. 1. 0.]\n",
      " [0. 0. 0. 1. 0.]]\n"
     ]
    }
   ],
   "source": [
    "# hashed feature\n",
    "clarity_hashed = feature_column.categorical_column_with_hash_bucket(\n",
    "    'clarity', hash_bucket_size=5)\n",
    "demo(feature_column.indicator_column(clarity_hashed))"
   ]
  },
  {
   "cell_type": "code",
   "execution_count": 13,
   "id": "bd363499",
   "metadata": {},
   "outputs": [
    {
     "name": "stdout",
     "output_type": "stream",
     "text": [
      "WARNING:tensorflow:From C:\\Users\\Aris\\AppData\\Local\\Temp\\ipykernel_20528\\1608570584.py:3: crossed_column (from tensorflow.python.feature_column.feature_column_v2) is deprecated and will be removed in a future version.\n",
      "Instructions for updating:\n",
      "Use `tf.keras.layers.experimental.preprocessing.HashedCrossing` instead for feature crossing when preprocessing data to train a Keras model.\n",
      "[[0. 0. 0. 0. 0. 0. 0. 1. 0. 0.]\n",
      " [0. 0. 0. 0. 0. 0. 0. 0. 1. 0.]\n",
      " [0. 0. 0. 0. 1. 0. 0. 0. 0. 0.]\n",
      " [0. 0. 1. 0. 0. 0. 0. 0. 0. 0.]\n",
      " [0. 0. 0. 0. 0. 0. 0. 0. 1. 0.]\n",
      " [0. 0. 1. 0. 0. 0. 0. 0. 0. 0.]\n",
      " [0. 0. 0. 0. 1. 0. 0. 0. 0. 0.]\n",
      " [0. 0. 1. 0. 0. 0. 0. 0. 0. 0.]\n",
      " [0. 0. 0. 1. 0. 0. 0. 0. 0. 0.]\n",
      " [0. 0. 1. 0. 0. 0. 0. 0. 0. 0.]]\n"
     ]
    }
   ],
   "source": [
    "# Cross feature\n",
    "#data yang di cross harus berupa string, categorical, atau bucketized\n",
    "crossed_feature = feature_column.crossed_column([carat_buckets, color_type], hash_bucket_size=10)\n",
    "demo(feature_column.indicator_column(crossed_feature))"
   ]
  },
  {
   "cell_type": "code",
   "execution_count": 14,
   "id": "d436c84b",
   "metadata": {},
   "outputs": [],
   "source": [
    "#Pilih feature column mana yang akan digunakan\n",
    "feature_columns = []\n",
    "# numeric column\n",
    "for header in ['carat', 'depth', 'x', 'y', 'z']:\n",
    "  feature_columns.append(feature_column.numeric_column(header))\n",
    " \n",
    "#membuat feature layer\n",
    "feature_layer = tf.keras.layers.DenseFeatures(feature_columns)\n",
    "batch_size = 32\n",
    "train_ds = df_to_dataset(train, batch_size=batch_size)\n",
    "val_ds = df_to_dataset(val, shuffle=False, batch_size=batch_size)\n",
    "test_ds = df_to_dataset(test, shuffle=False, batch_size=batch_size)"
   ]
  },
  {
   "cell_type": "code",
   "execution_count": 15,
   "id": "9a1d371b",
   "metadata": {},
   "outputs": [
    {
     "name": "stdout",
     "output_type": "stream",
     "text": [
      "WARNING:tensorflow:From c:\\Users\\Aris\\AppData\\Local\\Programs\\Python\\Python310\\lib\\site-packages\\keras\\src\\optimizers\\__init__.py:309: The name tf.train.Optimizer is deprecated. Please use tf.compat.v1.train.Optimizer instead.\n",
      "\n",
      "Epoch 1/10\n",
      "WARNING:tensorflow:From c:\\Users\\Aris\\AppData\\Local\\Programs\\Python\\Python310\\lib\\site-packages\\keras\\src\\utils\\tf_utils.py:492: The name tf.ragged.RaggedTensorValue is deprecated. Please use tf.compat.v1.ragged.RaggedTensorValue instead.\n",
      "\n",
      "WARNING:tensorflow:From c:\\Users\\Aris\\AppData\\Local\\Programs\\Python\\Python310\\lib\\site-packages\\keras\\src\\engine\\base_layer_utils.py:384: The name tf.executing_eagerly_outside_functions is deprecated. Please use tf.compat.v1.executing_eagerly_outside_functions instead.\n",
      "\n",
      "1686/1686 [==============================] - 15s 7ms/step - loss: 0.2257 - accuracy: 0.9045 - val_loss: 0.1650 - val_accuracy: 0.9365\n",
      "Epoch 2/10\n",
      "1686/1686 [==============================] - 9s 5ms/step - loss: 0.1572 - accuracy: 0.9345 - val_loss: 0.1453 - val_accuracy: 0.9381\n",
      "Epoch 3/10\n",
      "1686/1686 [==============================] - 8s 5ms/step - loss: 0.1557 - accuracy: 0.9343 - val_loss: 0.1521 - val_accuracy: 0.9383\n",
      "Epoch 4/10\n",
      "1686/1686 [==============================] - 12s 7ms/step - loss: 0.1515 - accuracy: 0.9363 - val_loss: 0.1419 - val_accuracy: 0.9379\n",
      "Epoch 5/10\n",
      "1686/1686 [==============================] - 11s 6ms/step - loss: 0.1505 - accuracy: 0.9359 - val_loss: 0.1409 - val_accuracy: 0.9377\n",
      "Epoch 6/10\n",
      "1686/1686 [==============================] - 12s 7ms/step - loss: 0.1473 - accuracy: 0.9366 - val_loss: 0.1603 - val_accuracy: 0.9249\n",
      "Epoch 7/10\n",
      "1686/1686 [==============================] - 8s 5ms/step - loss: 0.1456 - accuracy: 0.9369 - val_loss: 0.1391 - val_accuracy: 0.9382\n",
      "Epoch 8/10\n",
      "1686/1686 [==============================] - 8s 5ms/step - loss: 0.1454 - accuracy: 0.9363 - val_loss: 0.1408 - val_accuracy: 0.9389\n",
      "Epoch 9/10\n",
      "1686/1686 [==============================] - 8s 4ms/step - loss: 0.1449 - accuracy: 0.9362 - val_loss: 0.1399 - val_accuracy: 0.9387\n",
      "Epoch 10/10\n",
      "1686/1686 [==============================] - 8s 4ms/step - loss: 0.1428 - accuracy: 0.9372 - val_loss: 0.1563 - val_accuracy: 0.9385\n"
     ]
    },
    {
     "data": {
      "text/plain": [
       "<keras.src.callbacks.History at 0x13803d596c0>"
      ]
     },
     "execution_count": 15,
     "metadata": {},
     "output_type": "execute_result"
    }
   ],
   "source": [
    "#create, compile, and train the model\n",
    "model = tf.keras.Sequential([\n",
    "  feature_layer,\n",
    "  layers.Dense(128, activation='relu'),\n",
    "  layers.Dense(128, activation='relu'),\n",
    "  layers.Dropout(.1),\n",
    "  layers.Dense(1)\n",
    "])\n",
    " \n",
    "model.compile(optimizer='adam',\n",
    "              loss=tf.keras.losses.BinaryCrossentropy(from_logits=True),\n",
    "              metrics=['accuracy'])\n",
    " \n",
    "model.fit(train_ds,\n",
    "          validation_data=val_ds,\n",
    "          epochs=10)"
   ]
  }
 ],
 "metadata": {
  "kernelspec": {
   "display_name": "Python 3",
   "language": "python",
   "name": "python3"
  },
  "language_info": {
   "codemirror_mode": {
    "name": "ipython",
    "version": 3
   },
   "file_extension": ".py",
   "mimetype": "text/x-python",
   "name": "python",
   "nbconvert_exporter": "python",
   "pygments_lexer": "ipython3",
   "version": "3.10.11"
  }
 },
 "nbformat": 4,
 "nbformat_minor": 5
}
