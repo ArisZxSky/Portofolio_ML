{
 "cells": [
  {
   "cell_type": "markdown",
   "id": "422d00d0",
   "metadata": {},
   "source": [
    "# Case Folding"
   ]
  },
  {
   "cell_type": "code",
   "execution_count": 1,
   "id": "acc53189",
   "metadata": {},
   "outputs": [
    {
     "name": "stdout",
     "output_type": "stream",
     "text": [
      "teks sebelum duubah : Ini Adalah Contoh Teks yang Akan di Konversi Menjadi Lowercase.\n",
      "Teks setelah di lowercase : ini adalah contoh teks yang akan di konversi menjadi lowercase.\n"
     ]
    }
   ],
   "source": [
    "# Contoh teks\n",
    "\n",
    "teks_asli = 'Ini Adalah Contoh Teks yang Akan di Konversi Menjadi Lowercase.'\n",
    "\n",
    "# mengunah teks menjadi lowercase\n",
    "teks_lowercase = teks_asli.lower()\n",
    "\n",
    "# menampilkan hasil\n",
    "print('teks sebelum duubah :', teks_asli)\n",
    "print('Teks setelah di lowercase :', teks_lowercase)"
   ]
  },
  {
   "cell_type": "markdown",
   "id": "185079f7",
   "metadata": {},
   "source": [
    "# Removal Special Characters"
   ]
  },
  {
   "cell_type": "markdown",
   "id": "995a5bb2",
   "metadata": {},
   "source": [
    "Menghapus Angka"
   ]
  },
  {
   "cell_type": "code",
   "execution_count": 2,
   "id": "a67d28b5",
   "metadata": {},
   "outputs": [
    {
     "name": "stdout",
     "output_type": "stream",
     "text": [
      "Teks dengan angka : Ini adalah contoh teks dengan angka 12345 yang akan dihapus.\n",
      "Teks tanpa angka : Ini adalah contoh teks dengan angka  yang akan dihapus.\n"
     ]
    }
   ],
   "source": [
    "# Fungsi untuk menghapus angka dari teks\n",
    "def hapus_angka(teks):\n",
    "    teks_tanpa_angka = ''.join([char for char in teks if not char.isdigit()])\n",
    "    return teks_tanpa_angka\n",
    "\n",
    "# Contoh teks dengan angka\n",
    "teks_dengan_angka = 'Ini adalah contoh teks dengan angka 12345 yang akan dihapus.'\n",
    "\n",
    "# Memanggil fungsi untuk menghapus angka\n",
    "teks_tanpa_angka = hapus_angka(teks_dengan_angka)\n",
    "\n",
    "# Menampilkan hasil\n",
    "print('Teks dengan angka :', teks_dengan_angka)\n",
    "print('Teks tanpa angka :', teks_tanpa_angka)"
   ]
  },
  {
   "cell_type": "code",
   "execution_count": 13,
   "id": "b9fe9b1d",
   "metadata": {},
   "outputs": [
    {
     "name": "stdout",
     "output_type": "stream",
     "text": [
      "Kalimat dengan angka: Di sini ada 3 nomor rumah yaitu  123, 456, dan 789. Silakan hubungi 081234567890 untuk informasi lebih lanjut.\n",
      "Kalimat tanpa angka tidak relevan: Di sini ada 3 nomor rumah yaitu  123, 456, dan 789. Silakan hubungi  untuk informasi lebih lanjut.\n"
     ]
    }
   ],
   "source": [
    "import re\n",
    " \n",
    "def hapus_angka_tidak_relevan(teks):\n",
    "    # Menggunakan regex untuk mengidentifikasi dan menghapus angka yang tidak relevan\n",
    "    # Pola untuk mengenali angka yang harus dihapus, termasuk nomor rumah dan nomor telepon\n",
    "    pola_angka_tidak_relevan = r\"\\b(?:\\d{1,3}[-\\.\\s]?)?(?:\\d{3}[-\\.\\s]?)?\\d{4,}\\b\"\n",
    "    hasil = re.sub(pola_angka_tidak_relevan, \"\", teks)\n",
    "    return hasil.strip()\n",
    " \n",
    "# Contoh kalimat dengan angka\n",
    "kalimat = \"Di sini ada 3 nomor rumah yaitu  123, 456, dan 789. Silakan hubungi 081234567890 untuk informasi lebih lanjut.\"\n",
    " \n",
    "# Memanggil fungsi untuk menghapus angka tidak relevan\n",
    "hasil_tanpa_angka = hapus_angka_tidak_relevan(kalimat)\n",
    " \n",
    "# Menampilkan hasil\n",
    "print(\"Kalimat dengan angka:\", kalimat)\n",
    "print(\"Kalimat tanpa angka tidak relevan:\", hasil_tanpa_angka)"
   ]
  },
  {
   "cell_type": "markdown",
   "id": "5fb77be2",
   "metadata": {},
   "source": [
    "Menghapus tanda baca"
   ]
  },
  {
   "cell_type": "code",
   "execution_count": 14,
   "id": "8513f77d",
   "metadata": {},
   "outputs": [
    {
     "name": "stdout",
     "output_type": "stream",
     "text": [
      "teks asli : ini adalah contoh teks, dengan tanda baca! contoh ini, digunakan? dengan untuk demonstrasi\n",
      "teks tanpa tanda baca ini adalah contoh teks dengan tanda baca contoh ini digunakan dengan untuk demonstrasi\n"
     ]
    }
   ],
   "source": [
    "import string\n",
    "\n",
    "def remove_punctuation(text):\n",
    "    # Membuat set yang berisi semua tanda baca\n",
    "    punctuation_set = set(string.punctuation)\n",
    "\n",
    "    # Menghapus tanda baca dari teks\n",
    "    text_without_punctuation = ''.join(char for char in text if char not in punctuation_set)\n",
    "\n",
    "    return text_without_punctuation\n",
    "\n",
    "# Contoh teks dengan tanda baca\n",
    "teks_asli = 'ini adalah contoh teks, dengan tanda baca! contoh ini, digunakan? dengan untuk demonstrasi'\n",
    "\n",
    "# Menghapus tanda baca pada teks\n",
    "teks_tanpa_tanda_baca = remove_punctuation(teks_asli)\n",
    "\n",
    "# menampilkan hasil\n",
    "print('teks asli :', teks_asli)\n",
    "print('teks tanpa tanda baca', teks_tanpa_tanda_baca)"
   ]
  },
  {
   "cell_type": "markdown",
   "id": "222873c4",
   "metadata": {},
   "source": [
    "Menghapus whitespace"
   ]
  },
  {
   "cell_type": "code",
   "execution_count": null,
   "id": "cf3f7fa5",
   "metadata": {},
   "outputs": [
    {
     "name": "stdout",
     "output_type": "stream",
     "text": [
      "ini adalah contoh kalimat dengan spasi di awal dan di akhir.\n"
     ]
    }
   ],
   "source": [
    "# Menghapus whitespace menggunakan strip untuk menghapus diawal dan akhir kalimat\n",
    "teks = '    ini adalah contoh kalimat dengan spasi di awal dan di akhir.    '\n",
    "teks_setelah_strip = teks.strip()\n",
    "print(teks_setelah_strip)"
   ]
  },
  {
   "cell_type": "code",
   "execution_count": 21,
   "id": "e01286f4",
   "metadata": {},
   "outputs": [
    {
     "name": "stdout",
     "output_type": "stream",
     "text": [
      "iniadalahcontohkalimatdenganspasididalamnya\n"
     ]
    }
   ],
   "source": [
    "# Menghapus whitespace menggunakan replace untuk menghapus whitespace di seluruh string\n",
    "teks_dengan_whitespace = 'ini adalah    contoh kalimat     dengan spasi    didalamnya'\n",
    "teks_tanpa_whitespace = teks_dengan_whitespace.replace(\" \", \"\")\n",
    "print(teks_tanpa_whitespace)"
   ]
  },
  {
   "cell_type": "markdown",
   "id": "11e04079",
   "metadata": {},
   "source": [
    "# Stopword Removal (Filtering)"
   ]
  },
  {
   "cell_type": "code",
   "execution_count": 2,
   "id": "547a9731",
   "metadata": {},
   "outputs": [
    {
     "name": "stderr",
     "output_type": "stream",
     "text": [
      "[nltk_data] Downloading package stopwords to\n",
      "[nltk_data]     C:\\Users\\Aris\\AppData\\Roaming\\nltk_data...\n",
      "[nltk_data]   Package stopwords is already up-to-date!\n",
      "[nltk_data] Downloading package punkt to\n",
      "[nltk_data]     C:\\Users\\Aris\\AppData\\Roaming\\nltk_data...\n",
      "[nltk_data]   Unzipping tokenizers\\punkt.zip.\n"
     ]
    },
    {
     "name": "stdout",
     "output_type": "stream",
     "text": [
      "teks asli : perekonomian indonesia sedang dalam pertumbuhan yang membanggakan.\n",
      "teks setelah filtering dengan stopwords nltk : perekonomian indonesia pertumbuhan membanggakan .\n"
     ]
    }
   ],
   "source": [
    "import nltk\n",
    "from nltk.corpus import stopwords\n",
    "from nltk.tokenize import word_tokenize\n",
    "\n",
    "# download corpus stop words bahasa indonesia dari nltk jika belum terunduh\n",
    "\n",
    "nltk.download('stopwords')\n",
    "nltk.download('punkt')  # untuk tokenisasi data\n",
    "\n",
    "teks = 'perekonomian indonesia sedang dalam pertumbuhan yang membanggakan.'\n",
    "\n",
    "# tokenisasi teks menjadi kata kata\n",
    "tokens_kata = word_tokenize(teks)\n",
    "\n",
    "# ambil daftar stopwords bahasa indonesia dari nltk\n",
    "stop_word_indonesia = set(stopwords.words('indonesian'))\n",
    "\n",
    "# filtering kata kata dengan menghapus stopwords\n",
    "kata_penting = [kata for kata in tokens_kata if kata.lower() not in stop_word_indonesia]\n",
    "\n",
    "# gabungkan kata kata penting kembali menjadi teks\n",
    "teks_tanpa_stopwords = ' '.join(kata_penting)\n",
    "\n",
    "# tampilkan hasil\n",
    "print('teks asli :', teks)\n",
    "print('teks setelah filtering dengan stopwords nltk :', teks_tanpa_stopwords)"
   ]
  }
 ],
 "metadata": {
  "kernelspec": {
   "display_name": "Python 3",
   "language": "python",
   "name": "python3"
  },
  "language_info": {
   "codemirror_mode": {
    "name": "ipython",
    "version": 3
   },
   "file_extension": ".py",
   "mimetype": "text/x-python",
   "name": "python",
   "nbconvert_exporter": "python",
   "pygments_lexer": "ipython3",
   "version": "3.12.10"
  }
 },
 "nbformat": 4,
 "nbformat_minor": 5
}
