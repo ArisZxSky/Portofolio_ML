{
  "cells": [
    {
      "cell_type": "markdown",
      "metadata": {
        "id": "UzemRzfsrp65"
      },
      "source": [
        "# Import Library"
      ]
    },
    {
      "cell_type": "markdown",
      "metadata": {
        "id": "gE1OqgGAsX9j"
      },
      "source": [
        "pengolahan data, visualisasi, pembuatan dan evaluasi model"
      ]
    },
    {
      "cell_type": "code",
      "execution_count": null,
      "metadata": {
        "id": "jm5q1ea8rO8h"
      },
      "outputs": [],
      "source": [
        "import os, shutil\n",
        "import zipfile\n",
        "import random\n",
        "from random import sample\n",
        "import shutil\n",
        "from shutil import copyfile\n",
        "import pathlib\n",
        "from pathlib import Path\n",
        "import numpy as np\n",
        "import pandas as pd\n",
        "from tqdm.notebook import tqdm as tq\n",
        "import matplotlib.pyplot as plt\n",
        "import seaborn as sns\n"
      ]
    },
    {
      "cell_type": "markdown",
      "metadata": {
        "id": "EocCfrlssfX-"
      },
      "source": [
        "manipulasi file, manipulasi data, dan pustaka visualisasi"
      ]
    },
    {
      "cell_type": "code",
      "execution_count": null,
      "metadata": {
        "id": "6na3y0x7soT_"
      },
      "outputs": [],
      "source": [
        "import cv2\n",
        "from PIL import Image\n",
        "import skimage\n",
        "from skimage import io\n",
        "from skimage.transform import resize\n",
        "from skimage.transform import rotate, AffineTransform, warp\n",
        "from skimage import img_as_ubyte\n",
        "from skimage.exposure import adjust_gamma\n",
        "from skimage.util import random_noise"
      ]
    },
    {
      "cell_type": "markdown",
      "metadata": {
        "id": "82DRHWCctWYw"
      },
      "source": [
        "pengolahan data gambar"
      ]
    },
    {
      "cell_type": "code",
      "execution_count": null,
      "metadata": {
        "id": "0ybNgsq-tXCh"
      },
      "outputs": [],
      "source": [
        "import keras\n",
        "from sklearn.model_selection import train_test_split\n",
        "from sklearn.metrics import confusion_matrix, classification_report\n",
        "import tensorflow as tf\n",
        "from tensorflow.keras import Model, layers\n",
        "from tensorflow.keras.preprocessing import image\n",
        "from tensorflow.keras.preprocessing.image import ImageDataGenerator, img_to_array, load_img\n",
        "from tensorflow.keras.optimizers import Adam, RMSprop, SGD\n",
        "from tensorflow.keras.layers import InputLayer, Conv2D, SeparableConv2D, MaxPooling2D, MaxPool2D, Dense, Flatten, Dropout, BatchNormalization\n",
        "from tensorflow.keras.models import Sequential, Model\n",
        "from tensorflow.keras.applications import MobileNet\n",
        "from tensorflow.keras.applications.densenet import DenseNet121\n",
        "from tensorflow.keras.utils import to_categorical\n",
        "from tensorflow.keras.callbacks import ModelCheckpoint, Callback, EarlyStopping, ReduceLROnPlateau"
      ]
    },
    {
      "cell_type": "code",
      "execution_count": null,
      "metadata": {
        "id": "omQe_dvzwELo"
      },
      "outputs": [],
      "source": [
        "import warnings\n",
        "warnings.simplefilter(action='ignore', category=FutureWarning)"
      ]
    },
    {
      "cell_type": "code",
      "execution_count": null,
      "metadata": {
        "id": "5BNVyx7QwT9t"
      },
      "outputs": [],
      "source": [
        "# Mencetak versi TensorFlow yang sedang digunakan\n",
        "print(tf.__version__)"
      ]
    },
    {
      "cell_type": "markdown",
      "metadata": {
        "id": "NxCNUCJww6hH"
      },
      "source": [
        "# Data Loading"
      ]
    },
    {
      "cell_type": "code",
      "execution_count": null,
      "metadata": {
        "id": "Dy_3qctKw0yU"
      },
      "outputs": [],
      "source": [
        "# Import data dari kaggle\n",
        "from google.colab import files\n",
        "files.upload()"
      ]
    },
    {
      "cell_type": "code",
      "execution_count": null,
      "metadata": {
        "id": "FprfXK_YMNVj"
      },
      "outputs": [],
      "source": [
        "!rm -rf chest_xray"
      ]
    },
    {
      "cell_type": "code",
      "execution_count": null,
      "metadata": {
        "id": "1NcFV-1ozQ-2"
      },
      "outputs": [],
      "source": [
        "# Download kaggle dataset and unzip the file\n",
        "!mkdir -p ~/.kaggle\n",
        "!cp kaggle.json ~/.kaggle/\n",
        "\n",
        "!chmod 600 ~/.kaggle/kaggle.json\n",
        "!kaggle datasets download -d tolgadincer/labeled-chest-xray-images\n",
        "!unzip labeled-chest-xray-images.zip"
      ]
    },
    {
      "cell_type": "markdown",
      "metadata": {
        "id": "fsgSpZ0cVzDq"
      },
      "source": [
        "Data Preparation"
      ]
    },
    {
      "cell_type": "code",
      "execution_count": null,
      "metadata": {
        "id": "1Uv4aJNyzlOv"
      },
      "outputs": [],
      "source": [
        "# Direktori awal untuk train dan test\n",
        "train_dir = 'chest_xray/train'\n",
        "test_dir = 'chest_xray/test'\n",
        "\n",
        "# Direktori baru untuk dataset gabungan\n",
        "combined_dir = 'chest_xray/dataset'"
      ]
    },
    {
      "cell_type": "code",
      "execution_count": null,
      "metadata": {
        "id": "6WyeYkXx2cLd"
      },
      "outputs": [],
      "source": [
        "# Membuat direktori baru untuk dataset gabungan\n",
        "os.makedirs(combined_dir, exist_ok=True)"
      ]
    },
    {
      "cell_type": "code",
      "execution_count": null,
      "metadata": {
        "id": "CG66e-g42kT3"
      },
      "outputs": [],
      "source": [
        "# Salin file dan folder dari train\n",
        "for category in os.listdir(train_dir):\n",
        "    category_dir = os.path.join(train_dir, category)\n",
        "    if os.path.isdir(category_dir):\n",
        "        shutil.copytree(category_dir, os.path.join(combined_dir, category), dirs_exist_ok=True)\n",
        "\n",
        "# Salin file dan folder dari test\n",
        "for category in os.listdir(test_dir):\n",
        "    category_dir = os.path.join(test_dir, category)\n",
        "    if os.path.isdir(category_dir):\n",
        "        shutil.copytree(category_dir, os.path.join(combined_dir, category), dirs_exist_ok=True)"
      ]
    },
    {
      "cell_type": "markdown",
      "metadata": {
        "id": "sqKfZeIyb2YL"
      },
      "source": [
        "Dataset checking"
      ]
    },
    {
      "cell_type": "code",
      "execution_count": null,
      "metadata": {
        "id": "sEe47BXnb4Bw"
      },
      "outputs": [],
      "source": [
        "# Membuat kamus ysng menyimpan gambar untuk kelas dalam data\n",
        "lung_image = {}\n",
        "\n",
        "# Tentukan path sumber train\n",
        "path = 'chest_xray/'\n",
        "path_sub = os.path.join(path, 'dataset')\n",
        "for i in os.listdir(path_sub):\n",
        "    lung_image[i] = os.listdir(os.path.join(path_sub, i))\n",
        "\n",
        "# Menampilkan secara acak 5 gambar dibawah setiap dari 2 kelas  dari data\n",
        "path_sub = 'chest_xray/dataset'\n",
        "\n",
        "# Menampilkan secara acak 5 gambar dibawah setiap kelas dari data train\n",
        "fig, axs = plt.subplots(len(lung_image.keys()), 5, figsize=(15, 5))\n",
        "\n",
        "for i, class_name in enumerate(os.listdir(path_sub)):\n",
        "    images = np.random.choice(lung_image[class_name], 5, replace=False)\n",
        "\n",
        "    for j, image_name in enumerate(images):\n",
        "        img_path = os.path.join(path_sub, class_name, image_name)\n",
        "        img = Image.open(img_path).convert('L')   # Mengkonversi jadi skala keabuan\n",
        "        axs[i, j].imshow(img, cmap='gray')\n",
        "        axs[i, j].set(xlabel=class_name, xticks=[], yticks=[])\n",
        "\n",
        "fig.tight_layout()"
      ]
    },
    {
      "cell_type": "markdown",
      "metadata": {
        "id": "QelkiYdufo-o"
      },
      "source": [
        "plot distribusi"
      ]
    },
    {
      "cell_type": "code",
      "execution_count": null,
      "metadata": {
        "id": "iTX0tGIVfmu-"
      },
      "outputs": [],
      "source": [
        "# Definisikan path sumber\n",
        "lung_path = 'chest_xray/dataset/'\n",
        "\n",
        "# Buat daftar yang menyimpan data untuk setiap nama file, path file, dan label dalam data\n",
        "file_name = []\n",
        "labels = []\n",
        "full_path = []\n",
        "\n",
        "# Dapatkan nama file gambar, path file dan label satu per satu dengan looping, dan simpan sebagai data frame\n",
        "for path, subdirs, files in os.walk(lung_path):\n",
        "    for name in files:\n",
        "        full_path.append(os.path.join(path, name))\n",
        "        labels.append(path.split('/')[-1])\n",
        "        file_name.append(name)\n",
        "\n",
        "distribution_train = pd.DataFrame({'path': full_path, 'file_name': file_name, 'labels': labels})\n",
        "\n",
        "# Plot distribusi gambar di setiap kelas\n",
        "label = distribution_train['labels']\n",
        "plt.figure(figsize=(6, 6))\n",
        "sns.set_style('darkgrid')\n",
        "plot_data = sns.countplot(label)"
      ]
    },
    {
      "cell_type": "markdown",
      "metadata": {
        "id": "rZ6vmtasi6LP"
      },
      "source": [
        "Data augmentationn"
      ]
    },
    {
      "cell_type": "code",
      "execution_count": null,
      "metadata": {
        "id": "5tlZM6U4i8OO"
      },
      "outputs": [],
      "source": [
        "# Membuat fungsi untuk melakukan rotasi berlawanan arah jarum jam\n",
        "def anticlockwise_rotation(img):\n",
        "    img = cv2.cvtColor(img, 0)\n",
        "    img = cv2.resize(img, (224, 224))\n",
        "    sudut = random.randint(0, 180)\n",
        "    return rotate(img, sudut)\n",
        "\n",
        "# Membuat fungsi untuk melakukan rotasi searah jarum jam\n",
        "def clockwise_rotation(img):\n",
        "    img = cv2.cvtColor(img, 0)\n",
        "    img = cv2.resize(img, (224, 224))\n",
        "    sudut = random.randint(0, 180)\n",
        "    return rotate(img, -sudut)\n",
        "\n",
        "# Membuat fungsi membalik gambar secra vertikal dari atas ke bawah\n",
        "def flip_up_down(img):\n",
        "    img = cv2.cvtColor(img, 0)\n",
        "    img = cv2.resize(img, (224, 224))\n",
        "    return np.flipud(img)\n",
        "\n",
        "# Membuat fungsi untuk memberikan efek peningkatan kecerahan pada gambar\n",
        "def add_brightness(img):\n",
        "    img = cv2.cvtColor(img, 0)\n",
        "    img = cv2.resize(img, (224,224))\n",
        "    img = adjust_gamma(img, gamma=0.5,gain=1)\n",
        "    return img\n",
        "\n",
        "# Membuat fungsi untuk memberikan efek blur pada gambar\n",
        "def blur_image(img):\n",
        "    img = cv2.cvtColor(img, 0)\n",
        "    img = cv2.resize(img, (224, 224))\n",
        "    return cv2.GaussianBlur(img, (9,9),0)\n",
        "\n",
        "# Membuat fungsi untuk memberikan efek pergeseran acak pada gambar\n",
        "def sheared (img):\n",
        "    img = cv2.cvtColor(img, 0)\n",
        "    img = cv2.resize(img, (224, 224))\n",
        "    transform = AffineTransform(shear=0.2)\n",
        "    shear_image = warp(img, transform, mode='wrap')\n",
        "    return shear_image\n",
        "\n",
        "# Membuat fungsi untuk melakukan pergeseran melengkung pada gambar\n",
        "def warp_shift(img):\n",
        "    img = cv2.cvtColor(img, 0)\n",
        "    img = cv2.resize(img, (224, 224))\n",
        "    transform = AffineTransform(translation=(0, 40))\n",
        "    warp_image = warp(img, transform, mode='wrap')\n",
        "    return warp_image"
      ]
    },
    {
      "cell_type": "code",
      "execution_count": null,
      "metadata": {
        "id": "__V_AGL1noEM"
      },
      "outputs": [],
      "source": [
        "# Membuat variabel transformasi yang akan menyimpan semua proses pra-pemrosesan yang telah dilakukan sebelumnya\n",
        "transformations = {\n",
        "    'rotate anticlockwise' : anticlockwise_rotation,\n",
        "    'rotate clockwise' : clockwise_rotation,\n",
        "    'flip up down' : flip_up_down,\n",
        "    'add brightness' : add_brightness,\n",
        "    'blur image' : blur_image,\n",
        "    'sheared' : sheared,\n",
        "    'warp shift' : warp_shift\n",
        "}\n",
        "\n",
        "images_path = 'chest_xray/dataset/NORMAL'   # Path untuk gambar asli\n",
        "augmented_path = 'chest_xray/dataset/NORMAL'  # Path untuk gambar yang sudah diaugmentasi\n",
        "images = []   # Penyimpanan gambar yang telah melalui pra-pemrosesan\n",
        "\n",
        "\n",
        "# Baca nama gambar dari folder dan tambahkan path ke dalam array \"images\"\n",
        "for im in os.listdir(images_path):\n",
        "    images.append(os.path.join(images_path, im))\n",
        "\n",
        "\n",
        "# Jumlah gambar yang akan ditambahkan dengan hasil transformasi augmentasi, jumlahnya disesuaikan sesuai kebutuhan\n",
        "# Variabel untuk melakukan iterasi sampai jumlah gambar yang ditentukan dalam images_to_generate\n",
        "images_to_generate = 2000\n",
        "i = 1\n",
        "\n",
        "while i<=images_to_generate:\n",
        "    image = random.choice(images)\n",
        "    try:\n",
        "        original_image = io.imread(image)\n",
        "        transformed_image=None\n",
        "        n = 0   # Variabel untuk melakukan iterasi sampai jumlah transformasi yang akan diterapkan\n",
        "        transformation_count = random.randint(1, len(transformations))  # Pilih jumlah transformasi acak yang akan diterapkan pada gambar\n",
        "\n",
        "        while n <=  transformation_count:\n",
        "            key = random.choice(list(transformations))    # Secara acak memilih dan memanggil metode\n",
        "            transformed_image = transformations[key](original_image)\n",
        "            n = n  + 1\n",
        "\n",
        "        new_image_path = \"%s/augmented_image_%s.jpg\"%(augmented_path, i)\n",
        "        transformed_image = img_as_ubyte(transformed_image)   # Mengonversi gambar ke format byte yang tidak ditandatangani, dengan nilai dalam [0, 255]\n",
        "        cv2.imwrite(new_image_path, transformed_image)    # Simpan hasil transformasi augmentasi pada gambar ke path yang ditentukan\n",
        "        i = i + 1\n",
        "    except ValueError as e:\n",
        "        print('could not read the', image, ':', e, 'hence skipping it.')"
      ]
    },
    {
      "cell_type": "code",
      "execution_count": null,
      "metadata": {
        "id": "yruJgn_MwrVy"
      },
      "outputs": [],
      "source": [
        "# denfinisikan path sumber\n",
        "lung_path = 'chest_xray/dataset'\n",
        "\n",
        "# Buat daftar yang menyimpan data untuk setiap nama file, path file, dan label dalam data\n",
        "file_name = []\n",
        "labels = []\n",
        "full_path = []\n",
        "\n",
        "# Dapatkan nama file gambar, path file, dan label satu per satu dengan looping, dan simpan sebagai dataframe\n",
        "for path, subdirs, files in os.walk(lung_path):\n",
        "    for name in files:\n",
        "        full_path.append(os.path.join(path, name))\n",
        "        labels.append(path.split('/')[-1])\n",
        "        file_name.append(name)\n",
        "\n",
        "distribution_train = pd.DataFrame({'path': full_path, 'file_name': file_name,  'labels': labels})\n",
        "\n",
        "# Plot distribusi gambar di setiap kelas\n",
        "Label = distribution_train['labels']\n",
        "plt.figure(figsize=(6, 6))\n",
        "sns.set_style('darkgrid')\n",
        "plot_data = sns.countplot(Label)"
      ]
    },
    {
      "cell_type": "markdown",
      "metadata": {
        "id": "NQrAp1RBNtnN"
      },
      "source": [
        "# Data Spliting"
      ]
    },
    {
      "cell_type": "code",
      "execution_count": null,
      "metadata": {
        "id": "d-z_kbq1NxeA"
      },
      "outputs": [],
      "source": [
        "# tambah variabel mypath yang menampung folder dataset gambar\n",
        "mypath = 'chest_xray/dataset/'\n",
        "\n",
        "file_name = []\n",
        "labels = []\n",
        "full_path = []\n",
        "for path, subdirs, files in os.walk(mypath):\n",
        "    for name in files:\n",
        "        full_path.append(os.path.join(path, name))\n",
        "        labels.append(path.split('/')[-1])\n",
        "        file_name.append(name)\n",
        "\n",
        "# Memasukan variabel yang sudah di kumpulkan pada looping diatas menjadi sebuha data frame agar rapih\n",
        "df = pd.DataFrame({'path': full_path, 'file_name': file_name, 'labels': labels})\n",
        "# melihat jumlah data gambar pada masing masing label\n",
        "df.groupby(['labels']).size()"
      ]
    },
    {
      "cell_type": "code",
      "execution_count": null,
      "metadata": {
        "id": "SHxe00GyPOU_"
      },
      "outputs": [],
      "source": [
        "# Variabel yang digunakan pada pemisahan data ini dimana variabel x = data path dan y = data labels\n",
        "\n",
        "X = df['path']\n",
        "y= df['labels']\n",
        "\n",
        "# Split dataset awal jadi data train dan test\n",
        "X_train, X_test, y_train, y_test = train_test_split(X, y, test_size=0.2, random_state=300)"
      ]
    },
    {
      "cell_type": "code",
      "execution_count": null,
      "metadata": {
        "id": "FT9vda_pQbYa"
      },
      "outputs": [],
      "source": [
        "# Menyatukan ke dalam masing masing dataframe\n",
        "df_tr = pd.DataFrame({'path': X_train, 'labels': y_train, 'set':'train'})\n",
        "df_te = pd.DataFrame({'path': X_test, 'labels': y_test, 'set':'test'})"
      ]
    },
    {
      "cell_type": "code",
      "execution_count": null,
      "metadata": {
        "id": "gJljyW9QRIOD"
      },
      "outputs": [],
      "source": [
        "# Gabungkan DataFrame df_tr dan df_te\n",
        "df_all = pd.concat([df_tr, df_te], ignore_index=True)\n",
        "\n",
        "print('=============================================\\n')\n",
        "print(df_all.groupby(['set', 'labels']).size(), '\\n')\n",
        "\n",
        "# Cek sample data\n",
        "print(df_all.sample(5))\n",
        "\n",
        "# Memanggil dataset asli yang berisi keseluruhan data gambar yang sesuai dengan labelnya\n",
        "datasource_path = 'chest_xray/dataset/'\n",
        "# Membuat variabel dataset , tempat menampung data yang telah dilakukan pembagian  data training dan testinng\n",
        "dataset_path = 'Dataset-Final/'"
      ]
    },
    {
      "cell_type": "code",
      "execution_count": null,
      "metadata": {
        "id": "-RRxWMTJUg5X"
      },
      "outputs": [],
      "source": [
        "for index, row in tq(df_all.iterrows()):\n",
        "    # Deteksi file path\n",
        "    file_path = row['path']\n",
        "    if os.path.exists(file_path) == False:\n",
        "          file_path = os.path.join(datasource_path, row['labels'], row['image'].split('.')[0])\n",
        "\n",
        "    # Buat direktori tujuan folder\n",
        "    if os.path.exists(os.path.join(dataset_path, row['set'], row['labels'])) == False:\n",
        "        os.makedirs(os.path.join(dataset_path, row['set'], row['labels']))\n",
        "\n",
        "\n",
        "    # Tentukan tujuan file\n",
        "    destination_file_name = file_path.split('/')[-1]\n",
        "    file_dest = os.path.join(dataset_path, row['set'], row['labels'], destination_file_name)\n",
        "\n",
        "    # Salin file dari sumber ke tujuan\n",
        "    if os.path.exists(file_dest) == False:\n",
        "        shutil.copy2(file_path, file_dest)"
      ]
    },
    {
      "cell_type": "markdown",
      "metadata": {
        "id": "2wsQWusvW1EZ"
      },
      "source": [
        "# Image Data Generator"
      ]
    },
    {
      "cell_type": "code",
      "execution_count": null,
      "metadata": {
        "id": "mAOKsj9QW4MX"
      },
      "outputs": [],
      "source": [
        "# definisikan direktori training dan test\n",
        "TRAIN_DIR = 'Dataset-Final/train'\n",
        "TEST_DIR = 'Dataset-Final/test'\n",
        "\n",
        "train_normal = os.path.join(TRAIN_DIR + '/NORMAL')\n",
        "train_pneumonia = os.path.join(TRAIN_DIR + '/PNEUMONIA')\n",
        "\n",
        "test_normal = os.path.join(TEST_DIR + '/NORMAL')\n",
        "test_pneumonia = os.path.join(TEST_DIR + '/PNEUMONIA')\n",
        "\n",
        "print(\"Total number of normal images in training set: \",len(os.listdir(train_normal)))\n",
        "print(\"Total number of pneumonic images in training set: \",len(os.listdir(train_pneumonia)))\n",
        "print(\"Total number of normal images in test set: \",len(os.listdir(test_normal)))\n",
        "print(\"Total number of pneumonic images in test set: \",len(os.listdir(test_pneumonia)))"
      ]
    },
    {
      "cell_type": "code",
      "execution_count": null,
      "metadata": {
        "id": "9ENX6_HHck2s"
      },
      "outputs": [],
      "source": [
        "# Buat image data generator untuk menormalkan gambar\n",
        "datagen = ImageDataGenerator(rescale=1/255.,\n",
        "                             validation_split =0.2)\n",
        "test_datagen = ImageDataGenerator(rescale= 1. / 255)\n",
        "\n",
        "train_generator  = datagen.flow_from_directory(TRAIN_DIR,\n",
        "                                               batch_size=32,\n",
        "                                               target_size=(150, 150),\n",
        "                                               color_mode='grayscale',\n",
        "                                               class_mode='binary',\n",
        "                                               subset='training',\n",
        "                                               shuffle=True)\n",
        "\n",
        "validation_generator = datagen.flow_from_directory(TRAIN_DIR,\n",
        "                                                   batch_size=32,\n",
        "                                                   target_size=(150, 150),\n",
        "                                                   color_mode='grayscale',\n",
        "                                                   class_mode='binary',\n",
        "                                                   subset='validation',\n",
        "                                                   shuffle=False)\n",
        "test_generator = datagen.flow_from_directory(TEST_DIR,\n",
        "                                             batch_size=1,\n",
        "                                             target_size=(150, 150),\n",
        "                                             color_mode ='grayscale',\n",
        "                                             class_mode='binary',\n",
        "                                             shuffle=False)\n"
      ]
    },
    {
      "cell_type": "markdown",
      "metadata": {
        "id": "EqQA5ZmN9C77"
      },
      "source": [
        "# Pembangunan Model dengan Beberapa Skema Parameter Tuning"
      ]
    },
    {
      "cell_type": "markdown",
      "metadata": {
        "id": "Xj2K_NDD9Q2t"
      },
      "source": [
        "# Skema CNN Architecture dengan 32 Neurons pada Conv Layer"
      ]
    },
    {
      "cell_type": "code",
      "execution_count": null,
      "metadata": {
        "id": "Nvf0bvIr9Srj"
      },
      "outputs": [],
      "source": [
        "tf.keras.backend.clear_session()\n",
        "\n",
        "################### Init Sequential Model ######################\n",
        "model_1 = Sequential()\n",
        "\n",
        "################### Input Layer with Fully Connected Layer ##################\n",
        "# 1st Convolutional layer, Batch Normalization layer, and Pooling layer\n",
        "model_1.add(Conv2D(32, (3, 3), padding='same', activation='relu', input_shape=(150, 150, 1)))\n",
        "model_1.add(BatchNormalization())\n",
        "model_1.add(MaxPooling2D((2, 2)))\n",
        "\n",
        "# 2nd Convolutional layer, Batch Normalization layer, and Pooling layer\n",
        "model_1.add(Conv2D(32, (4, 4), padding='same', activation='relu'))\n",
        "model_1.add(BatchNormalization())\n",
        "model_1.add(MaxPooling2D((2, 2)))\n",
        "\n",
        "# 3rd Convolutional layer, Batch Normalization layer, and Pooling layer\n",
        "model_1.add(Conv2D(32, (7, 7), padding='same', activation='relu'))\n",
        "model_1.add(BatchNormalization())\n",
        "model_1.add(MaxPooling2D(2, 2))\n",
        "\n",
        "# Flatten Layer\n",
        "model_1.add(Flatten())\n",
        "\n",
        "# 1nd Dense Layer\n",
        "model_1.add(Dense(128, activation='relu'))\n",
        "\n",
        "# 1nd Dropout Layer\n",
        "model_1.add(Dropout(0.5))\n",
        "\n",
        "# 2nd Dense Layer\n",
        "model_1.add(Dense(64, activation='relu'))\n",
        "\n",
        "# 2nd Dropout layer\n",
        "model_1.add(Dropout(0.3))\n",
        "\n",
        "# Final Dense layer => For output prediction 1 mean (binary class in dataset), sigmoid for binary cases\n",
        "model_1.add(Dense(1, activation='sigmoid'))\n",
        "#################### Fully conected layer ####################\n",
        "#################### Compile Model ###########################\n",
        "model_1.compile(optimizer=tf.keras.optimizers.RMSprop(),\n",
        "                loss='binary_crossentropy',\n",
        "                metrics=['accuracy'])\n",
        "\n",
        "# Summary of the Model architecture\n",
        "print(model_1.summary())"
      ]
    },
    {
      "cell_type": "code",
      "execution_count": null,
      "metadata": {
        "colab": {
          "base_uri": "https://localhost:8080/"
        },
        "id": "ZAzNqmEzEFo8",
        "outputId": "b8dec74d-0de0-44b5-c9d9-a1a4be6190e5"
      },
      "outputs": [
        {
          "metadata": {
            "tags": null
          },
          "name": "stdout",
          "output_type": "stream",
          "text": [
            "CPU times: user 3 µs, sys: 0 ns, total: 3 µs\n",
            "Wall time: 6.91 µs\n"
          ]
        },
        {
          "metadata": {
            "tags": null
          },
          "name": "stderr",
          "output_type": "stream",
          "text": [
            "/usr/local/lib/python3.12/dist-packages/keras/src/trainers/data_adapters/py_dataset_adapter.py:121: UserWarning: Your `PyDataset` class should call `super().__init__(**kwargs)` in its constructor. `**kwargs` can include `workers`, `use_multiprocessing`, `max_queue_size`. Do not pass these arguments to `fit()`, as they will be ignored.\n",
            "  self._warn_if_super_not_called()\n"
          ]
        },
        {
          "output_type": "stream",
          "name": "stdout",
          "text": [
            "Epoch 1/30\n",
            "\u001b[1m158/158\u001b[0m \u001b[32m━━━━━━━━━━━━━━━━━━━━\u001b[0m\u001b[37m\u001b[0m \u001b[1m379s\u001b[0m 2s/step - accuracy: 0.7351 - loss: 1.1592 - val_accuracy: 0.5430 - val_loss: 1.0015\n",
            "Epoch 2/30\n",
            "\u001b[1m158/158\u001b[0m \u001b[32m━━━━━━━━━━━━━━━━━━━━\u001b[0m\u001b[37m\u001b[0m \u001b[1m366s\u001b[0m 2s/step - accuracy: 0.9157 - loss: 0.2626 - val_accuracy: 0.5693 - val_loss: 2.4368\n",
            "Epoch 3/30\n",
            "\u001b[1m158/158\u001b[0m \u001b[32m━━━━━━━━━━━━━━━━━━━━\u001b[0m\u001b[37m\u001b[0m \u001b[1m363s\u001b[0m 2s/step - accuracy: 0.9385 - loss: 0.2382 - val_accuracy: 0.7396 - val_loss: 1.0339\n",
            "Epoch 4/30\n",
            "\u001b[1m158/158\u001b[0m \u001b[32m━━━━━━━━━━━━━━━━━━━━\u001b[0m\u001b[37m\u001b[0m \u001b[1m374s\u001b[0m 2s/step - accuracy: 0.9472 - loss: 0.1762 - val_accuracy: 0.7341 - val_loss: 1.0263\n",
            "Epoch 5/30\n",
            "\u001b[1m158/158\u001b[0m \u001b[32m━━━━━━━━━━━━━━━━━━━━\u001b[0m\u001b[37m\u001b[0m \u001b[1m368s\u001b[0m 2s/step - accuracy: 0.9595 - loss: 0.1331 - val_accuracy: 0.9570 - val_loss: 0.1426\n",
            "Epoch 6/30\n",
            "\u001b[1m158/158\u001b[0m \u001b[32m━━━━━━━━━━━━━━━━━━━━\u001b[0m\u001b[37m\u001b[0m \u001b[1m374s\u001b[0m 2s/step - accuracy: 0.9665 - loss: 0.1147 - val_accuracy: 0.9554 - val_loss: 0.1533\n",
            "Epoch 7/30\n",
            "\u001b[1m158/158\u001b[0m \u001b[32m━━━━━━━━━━━━━━━━━━━━\u001b[0m\u001b[37m\u001b[0m \u001b[1m367s\u001b[0m 2s/step - accuracy: 0.9767 - loss: 0.0918 - val_accuracy: 0.9196 - val_loss: 0.2811\n",
            "Epoch 8/30\n",
            "\u001b[1m158/158\u001b[0m \u001b[32m━━━━━━━━━━━━━━━━━━━━\u001b[0m\u001b[37m\u001b[0m \u001b[1m375s\u001b[0m 2s/step - accuracy: 0.9732 - loss: 0.0959 - val_accuracy: 0.8774 - val_loss: 0.7437\n",
            "Epoch 9/30\n",
            "\u001b[1m158/158\u001b[0m \u001b[32m━━━━━━━━━━━━━━━━━━━━\u001b[0m\u001b[37m\u001b[0m \u001b[1m385s\u001b[0m 2s/step - accuracy: 0.9760 - loss: 0.0732 - val_accuracy: 0.9666 - val_loss: 0.1915\n",
            "Epoch 10/30\n",
            "\u001b[1m158/158\u001b[0m \u001b[32m━━━━━━━━━━━━━━━━━━━━\u001b[0m\u001b[37m\u001b[0m \u001b[1m368s\u001b[0m 2s/step - accuracy: 0.9838 - loss: 0.0690 - val_accuracy: 0.6409 - val_loss: 0.7092\n",
            "Epoch 11/30\n",
            "\u001b[1m158/158\u001b[0m \u001b[32m━━━━━━━━━━━━━━━━━━━━\u001b[0m\u001b[37m\u001b[0m \u001b[1m367s\u001b[0m 2s/step - accuracy: 0.9820 - loss: 0.0539 - val_accuracy: 0.9260 - val_loss: 0.2972\n",
            "Epoch 12/30\n",
            "\u001b[1m158/158\u001b[0m \u001b[32m━━━━━━━━━━━━━━━━━━━━\u001b[0m\u001b[37m\u001b[0m \u001b[1m367s\u001b[0m 2s/step - accuracy: 0.9823 - loss: 0.0504 - val_accuracy: 0.9268 - val_loss: 0.2707\n",
            "Epoch 13/30\n",
            "\u001b[1m158/158\u001b[0m \u001b[32m━━━━━━━━━━━━━━━━━━━━\u001b[0m\u001b[37m\u001b[0m \u001b[1m366s\u001b[0m 2s/step - accuracy: 0.9883 - loss: 0.0430 - val_accuracy: 0.9642 - val_loss: 0.2164\n",
            "Epoch 14/30\n",
            "\u001b[1m158/158\u001b[0m \u001b[32m━━━━━━━━━━━━━━━━━━━━\u001b[0m\u001b[37m\u001b[0m \u001b[1m369s\u001b[0m 2s/step - accuracy: 0.9907 - loss: 0.0382 - val_accuracy: 0.9355 - val_loss: 0.7202\n",
            "Epoch 15/30\n",
            "\u001b[1m158/158\u001b[0m \u001b[32m━━━━━━━━━━━━━━━━━━━━\u001b[0m\u001b[37m\u001b[0m \u001b[1m364s\u001b[0m 2s/step - accuracy: 0.9900 - loss: 0.0326 - val_accuracy: 0.9315 - val_loss: 0.4800\n",
            "Epoch 16/30\n",
            "\u001b[1m158/158\u001b[0m \u001b[32m━━━━━━━━━━━━━━━━━━━━\u001b[0m\u001b[37m\u001b[0m \u001b[1m381s\u001b[0m 2s/step - accuracy: 0.9929 - loss: 0.0241 - val_accuracy: 0.9355 - val_loss: 0.5512\n",
            "Epoch 17/30\n",
            "\u001b[1m158/158\u001b[0m \u001b[32m━━━━━━━━━━━━━━━━━━━━\u001b[0m\u001b[37m\u001b[0m \u001b[1m367s\u001b[0m 2s/step - accuracy: 0.9927 - loss: 0.0196 - val_accuracy: 0.9554 - val_loss: 0.2145\n",
            "Epoch 18/30\n",
            "\u001b[1m158/158\u001b[0m \u001b[32m━━━━━━━━━━━━━━━━━━━━\u001b[0m\u001b[37m\u001b[0m \u001b[1m386s\u001b[0m 2s/step - accuracy: 0.9955 - loss: 0.0190 - val_accuracy: 0.9618 - val_loss: 0.1727\n",
            "Epoch 19/30\n",
            "\u001b[1m158/158\u001b[0m \u001b[32m━━━━━━━━━━━━━━━━━━━━\u001b[0m\u001b[37m\u001b[0m \u001b[1m366s\u001b[0m 2s/step - accuracy: 0.9953 - loss: 0.0184 - val_accuracy: 0.9650 - val_loss: 0.5236\n",
            "Epoch 20/30\n",
            "\u001b[1m158/158\u001b[0m \u001b[32m━━━━━━━━━━━━━━━━━━━━\u001b[0m\u001b[37m\u001b[0m \u001b[1m370s\u001b[0m 2s/step - accuracy: 0.9922 - loss: 0.0251 - val_accuracy: 0.9650 - val_loss: 0.4853\n",
            "Epoch 21/30\n",
            "\u001b[1m158/158\u001b[0m \u001b[32m━━━━━━━━━━━━━━━━━━━━\u001b[0m\u001b[37m\u001b[0m \u001b[1m365s\u001b[0m 2s/step - accuracy: 0.9970 - loss: 0.0101 - val_accuracy: 0.9650 - val_loss: 0.5762\n",
            "Epoch 22/30\n",
            "\u001b[1m158/158\u001b[0m \u001b[32m━━━━━━━━━━━━━━━━━━━━\u001b[0m\u001b[37m\u001b[0m \u001b[1m364s\u001b[0m 2s/step - accuracy: 0.9951 - loss: 0.0171 - val_accuracy: 0.9435 - val_loss: 0.3564\n",
            "Epoch 23/30\n",
            "\u001b[1m158/158\u001b[0m \u001b[32m━━━━━━━━━━━━━━━━━━━━\u001b[0m\u001b[37m\u001b[0m \u001b[1m367s\u001b[0m 2s/step - accuracy: 0.9945 - loss: 0.0172 - val_accuracy: 0.9642 - val_loss: 0.4410\n",
            "Epoch 24/30\n",
            "\u001b[1m158/158\u001b[0m \u001b[32m━━━━━━━━━━━━━━━━━━━━\u001b[0m\u001b[37m\u001b[0m \u001b[1m367s\u001b[0m 2s/step - accuracy: 0.9939 - loss: 0.0310 - val_accuracy: 0.9642 - val_loss: 0.4433\n",
            "Epoch 25/30\n",
            "\u001b[1m158/158\u001b[0m \u001b[32m━━━━━━━━━━━━━━━━━━━━\u001b[0m\u001b[37m\u001b[0m \u001b[1m367s\u001b[0m 2s/step - accuracy: 0.9931 - loss: 0.0194 - val_accuracy: 0.9562 - val_loss: 0.4335\n",
            "Epoch 26/30\n",
            "\u001b[1m158/158\u001b[0m \u001b[32m━━━━━━━━━━━━━━━━━━━━\u001b[0m\u001b[37m\u001b[0m \u001b[1m382s\u001b[0m 2s/step - accuracy: 0.9963 - loss: 0.0129 - val_accuracy: 0.9594 - val_loss: 0.5533\n",
            "Epoch 27/30\n",
            "\u001b[1m158/158\u001b[0m \u001b[32m━━━━━━━━━━━━━━━━━━━━\u001b[0m\u001b[37m\u001b[0m \u001b[1m369s\u001b[0m 2s/step - accuracy: 0.9967 - loss: 0.0185 - val_accuracy: 0.9562 - val_loss: 0.2621\n",
            "Epoch 28/30\n",
            "\u001b[1m158/158\u001b[0m \u001b[32m━━━━━━━━━━━━━━━━━━━━\u001b[0m\u001b[37m\u001b[0m \u001b[1m383s\u001b[0m 2s/step - accuracy: 0.9965 - loss: 0.0139 - val_accuracy: 0.9618 - val_loss: 0.4508\n",
            "Epoch 29/30\n",
            "\u001b[1m158/158\u001b[0m \u001b[32m━━━━━━━━━━━━━━━━━━━━\u001b[0m\u001b[37m\u001b[0m \u001b[1m367s\u001b[0m 2s/step - accuracy: 0.9926 - loss: 0.0167 - val_accuracy: 0.9610 - val_loss: 0.7233\n",
            "Epoch 30/30\n",
            "\u001b[1m158/158\u001b[0m \u001b[32m━━━━━━━━━━━━━━━━━━━━\u001b[0m\u001b[37m\u001b[0m \u001b[1m382s\u001b[0m 2s/step - accuracy: 0.9967 - loss: 0.0221 - val_accuracy: 0.9546 - val_loss: 0.5124\n"
          ]
        }
      ],
      "source": [
        "count_normal, count_pneumonia = len(os.listdir(train_normal)), len(os.listdir(train_pneumonia))\n",
        "weight_0 = (1 / count_normal) * (count_normal + count_pneumonia) / 2.0\n",
        "weight_1 = (1 / count_pneumonia) * (count_normal + count_pneumonia) / 2.0\n",
        "\n",
        "class_weights = {0: weight_0, 1: weight_1}\n",
        "\n",
        "%time\n",
        "\n",
        "#Fitting / training model\n",
        "history_1 = model_1.fit(train_generator,\n",
        "                        epochs=30,\n",
        "                        batch_size=32,\n",
        "                        validation_data=validation_generator,\n",
        "                        class_weight =  class_weights)"
      ]
    },
    {
      "cell_type": "code",
      "source": [
        "acc = history_1.history['accuracy']\n",
        "val_acc = history_1.history['val_accuracy']\n",
        "loss = history_1.history['loss']\n",
        "val_loss = history_1.history['val_loss']\n",
        "\n",
        "epochs = range(len(acc))\n",
        "\n",
        "plt.plot(epochs, acc, 'r')\n",
        "plt.plot(epochs, val_acc, 'b')\n",
        "plt.title('Training and validation accuracy')\n",
        "plt.ylabel('accuracy')\n",
        "plt.xlabel('epoch')\n",
        "plt.legend(['train', 'val'], loc='upper left')\n",
        "plt.show()"
      ],
      "metadata": {
        "colab": {
          "base_uri": "https://localhost:8080/",
          "height": 472
        },
        "id": "3CcGD2APWSHM",
        "outputId": "31b7a0ab-a275-44c1-e44c-47105cb27e50"
      },
      "execution_count": null,
      "outputs": [
        {
          "output_type": "display_data",
          "data": {
            "text/plain": [
              "<Figure size 640x480 with 1 Axes>"
            ],
            "image/png": "[encoded data removed]"
          },
          "metadata": {}
        }
      ]
    },
    {
      "cell_type": "code",
      "source": [
        "\n",
        "test_generator.reset()\n",
        "\n",
        "preds_1 = model_1.predict(test_generator, verbose=0)\n",
        "preds_1 = preds_1.copy()\n",
        "preds_1[preds_1 <= 0.5] = 0\n",
        "preds_1[preds_1 > 0.5] = 1\n",
        "\n",
        "# Print confussion matrix\n",
        "cm = pd.DataFrame(data=confusion_matrix(test_generator.classes, preds_1, labels=[0, 1]), index=['Actual Normal', 'Actual Pneumonia'], columns=['Predicted Normal', 'Predicted Pneumonia'])\n",
        "sns.heatmap(cm, annot=True, fmt='d')\n",
        "\n",
        "# Print Classification report\n",
        "print('\\n')\n",
        "print(classification_report(y_true=test_generator.classes, y_pred=preds_1, target_names=['Normal', 'Pneumonia'], digits=4))"
      ],
      "metadata": {
        "colab": {
          "base_uri": "https://localhost:8080/"
        },
        "id": "4klHjVxVXvJX",
        "outputId": "050f8d69-8148-421a-9def-6fd95b0c09a5"
      },
      "execution_count": null,
      "outputs": [
        {
          "output_type": "stream",
          "name": "stdout",
          "text": [
            "\n",
            "\n",
            "              precision    recall  f1-score   support\n",
            "\n",
            "      Normal     0.9360    0.9887    0.9616       710\n",
            "   Pneumonia     0.9903    0.9443    0.9667       862\n",
            "\n",
            "    accuracy                         0.9644      1572\n",
            "   macro avg     0.9631    0.9665    0.9642      1572\n",
            "weighted avg     0.9658    0.9644    0.9644      1572\n",
            "\n"
          ]
        },
        {
          "output_type": "display_data",
          "data": {
            "text/plain": [
              "<Figure size 640x480 with 2 Axes>"
            ],
            "image/png": "[encoded data removed]"
          },
          "metadata": {}
        }
      ]
    },
    {
      "cell_type": "code",
      "source": [],
      "metadata": {
        "id": "JomYi3PVZjC6"
      },
      "execution_count": null,
      "outputs": []
    }
  ],
  "metadata": {
    "colab": {
      "provenance": []
    },
    "kernelspec": {
      "display_name": "Python 3",
      "name": "python3"
    },
    "language_info": {
      "name": "python"
    }
  },
  "nbformat": 4,
  "nbformat_minor": 0
}