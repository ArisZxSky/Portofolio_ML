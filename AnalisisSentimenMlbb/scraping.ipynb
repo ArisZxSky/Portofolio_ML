{
 "cells": [
  {
   "cell_type": "code",
   "execution_count": 1,
   "id": "dfdf7643",
   "metadata": {},
   "outputs": [],
   "source": [
    "from google_play_scraper import app, reviews, Sort, reviews_all\n",
    "\n",
    "# Mengimport ulasan dari aplikasi mobile legends di play store\n",
    "scraping = reviews_all(\n",
    "      'com.mobile.legends',\n",
    "      lang = 'id',\n",
    "      country = 'id',\n",
    "      sort = Sort.MOST_RELEVANT,\n",
    "      count = 10000\n",
    ")"
   ]
  },
  {
   "cell_type": "code",
   "execution_count": 3,
   "id": "b1f38b5f",
   "metadata": {},
   "outputs": [],
   "source": [
    "import csv\n",
    "with open('ulasan.csv', mode = 'w', newline = '', encoding = 'utf-8')as file:\n",
    "    writer = csv.writer(file)\n",
    "    writer.writerow(['userName', 'score', 'content', 'thumbsUpCount', 'reviewCreatedVersion', 'at'])\n",
    "\n",
    "    # Tulis data\n",
    "    for review in scraping:\n",
    "        writer.writerow([\n",
    "            review['userName'],\n",
    "            review['score'],\n",
    "            review['content'],\n",
    "            review['thumbsUpCount'],\n",
    "            review['reviewCreatedVersion'],\n",
    "            review['at']\n",
    "        ])"
   ]
  }
 ],
 "metadata": {
  "kernelspec": {
   "display_name": "Python 3",
   "language": "python",
   "name": "python3"
  },
  "language_info": {
   "codemirror_mode": {
    "name": "ipython",
    "version": 3
   },
   "file_extension": ".py",
   "mimetype": "text/x-python",
   "name": "python",
   "nbconvert_exporter": "python",
   "pygments_lexer": "ipython3",
   "version": "3.12.10"
  }
 },
 "nbformat": 4,
 "nbformat_minor": 5
}
